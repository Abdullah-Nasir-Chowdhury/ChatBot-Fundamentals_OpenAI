{
 "cells": [
  {
   "cell_type": "markdown",
   "id": "f60e1bbc",
   "metadata": {},
   "source": [
    "# Creating an AI ChatBot"
   ]
  },
  {
   "cell_type": "markdown",
   "id": "1bcd794a",
   "metadata": {},
   "source": [
    "## Setup the environment"
   ]
  },
  {
   "cell_type": "code",
   "execution_count": 5,
   "id": "9bff2d90",
   "metadata": {},
   "outputs": [
    {
     "data": {
      "text/plain": [
       "True"
      ]
     },
     "execution_count": 5,
     "metadata": {},
     "output_type": "execute_result"
    }
   ],
   "source": [
    "import os, openai, dotenv\n",
    "from dotenv import main\n",
    "main.load_dotenv()"
   ]
  },
  {
   "cell_type": "markdown",
   "id": "1e9c2709",
   "metadata": {},
   "source": [
    "## Set your API key"
   ]
  },
  {
   "cell_type": "code",
   "execution_count": 7,
   "id": "822538fc",
   "metadata": {},
   "outputs": [],
   "source": [
    "openai.api_key = os.getenv(\"OPENAI_API_KEY\")"
   ]
  },
  {
   "cell_type": "code",
   "execution_count": 9,
   "id": "d1fc0ac4",
   "metadata": {},
   "outputs": [
    {
     "name": "stdout",
     "output_type": "stream",
     "text": [
      "User:  Explain what pi is.\n",
      "Assistant:  Pi is a mathematical constant denoted by the Greek letter \"π\". It is approximately equal to 3.14159, but its decimal representation goes on infinitely without repeating. \n",
      "\n",
      "Pi is a fundamental ratio that relates the circumference of a circle to its diameter. No matter the size of the circle, if you divide its circumference by its diameter, the result will always be pi. This holds true for all circles, whether they are small or large.\n",
      "\n",
      "Pi is an irrational number, meaning it cannot be \n",
      "\n",
      "User:  Summarize this in two bullet points.\n",
      "Assistant:  - Pi is a mathematical constant denoted by the Greek letter \"π\" and is approximately equal to 3.14159.\n",
      "- It represents the relationship between the circumference and diameter of any circle, with the ratio always being pi. \n",
      "\n"
     ]
    }
   ],
   "source": [
    "messages = [{\"role\": \"system\", \"content\": \"You are a helpful math tutor.\"}]\n",
    "user_msgs = [\"Explain what pi is.\", \"Summarize this in two bullet points.\"]\n",
    "\n",
    "for q in user_msgs:\n",
    "    print(\"User: \", q)\n",
    "    \n",
    "    # Create a dictionary for the user message from q and append to messages\n",
    "    user_dict = {\"role\": \"user\", \"content\": q}\n",
    "    messages.append(user_dict)\n",
    "    \n",
    "    # Create the API request\n",
    "    response = openai.ChatCompletion.create(\n",
    "        model=\"gpt-3.5-turbo\",\n",
    "        messages = messages,\n",
    "        max_tokens=100\n",
    "    )\n",
    "\n",
    "    # Convert the assistant's message to a dict and append to messages\n",
    "    assistant_dict = dict(response.choices[0].message)\n",
    "    messages.append(assistant_dict)\n",
    "    #print(response[\"choices\"][0][\"message\"])\n",
    "    print(\"Assistant: \", response[\"choices\"][0][\"message\"][\"content\"], \"\\n\")"
   ]
  },
  {
   "cell_type": "code",
   "execution_count": null,
   "id": "86cc050d",
   "metadata": {},
   "outputs": [],
   "source": []
  }
 ],
 "metadata": {
  "kernelspec": {
   "display_name": "Python 3 (ipykernel)",
   "language": "python",
   "name": "python3"
  },
  "language_info": {
   "codemirror_mode": {
    "name": "ipython",
    "version": 3
   },
   "file_extension": ".py",
   "mimetype": "text/x-python",
   "name": "python",
   "nbconvert_exporter": "python",
   "pygments_lexer": "ipython3",
   "version": "3.9.12"
  }
 },
 "nbformat": 4,
 "nbformat_minor": 5
}
